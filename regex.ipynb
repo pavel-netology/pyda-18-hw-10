{
 "cells": [
  {
   "cell_type": "markdown",
   "metadata": {},
   "source": [
    "### Задание 1 - Напишите функцию, которая принимает на вход строку и проверяет является ли она валидным транспортным номером"
   ]
  },
  {
   "cell_type": "code",
   "execution_count": 1,
   "metadata": {},
   "outputs": [],
   "source": [
    "import re"
   ]
  },
  {
   "cell_type": "code",
   "execution_count": 2,
   "metadata": {},
   "outputs": [],
   "source": [
    "def validation():\n",
    "    vehicle_number = input('Введите транспортный номер')\n",
    "    result = re.findall(r'[АВЕКМНОРСТХ]\\d{3}[АВЕКМНОРСТХ]{2}\\d{2,3}', vehicle_number.upper())\n",
    "    if len(result) > 0:\n",
    "        print(f'Номер {result} - валиден')\n",
    "    else:\n",
    "        print(f'Номер {vehicle_number} - невалиден. Проверьте раскладку клавиатуры')"
   ]
  },
  {
   "cell_type": "code",
   "execution_count": 3,
   "metadata": {},
   "outputs": [
    {
     "name": "stdout",
     "output_type": "stream",
     "text": [
      "Введите транспортный номерhh66566hyh\n",
      "Номер hh66566hyh - невалиден. Проверьте раскладку клавиатуры\n"
     ]
    }
   ],
   "source": [
    "validation()"
   ]
  },
  {
   "cell_type": "markdown",
   "metadata": {},
   "source": [
    "### Задание 2 - Напишите функцию, которая будет удалять все последовательные повторы слов из заданной строки"
   ]
  },
  {
   "cell_type": "code",
   "execution_count": 4,
   "metadata": {},
   "outputs": [],
   "source": [
    "some_string = 'Напишите функцию функцию, которая будет будет будет будет удалять все все все все последовательные повторы слов из из из из заданной строки строки при помощи регулярных выражений'"
   ]
  },
  {
   "cell_type": "code",
   "execution_count": 5,
   "metadata": {},
   "outputs": [
    {
     "data": {
      "text/plain": [
       "'Напишите функцию, которая будет удалять все последовательные повторы слов из заданной строки при помощи регулярных выражений'"
      ]
     },
     "execution_count": 5,
     "metadata": {},
     "output_type": "execute_result"
    }
   ],
   "source": [
    "delite_repeat = re.sub(r'(\\w+)([\\s]\\1)+', r'\\1', some_string)\n",
    "delite_repeat"
   ]
  },
  {
   "cell_type": "markdown",
   "metadata": {},
   "source": [
    "### Задание 3 - Напишите функцию, которая будет возвращать акроним по переданной в нее строке со словами"
   ]
  },
  {
   "cell_type": "code",
   "execution_count": 6,
   "metadata": {},
   "outputs": [],
   "source": [
    "text1 = 'Near Field Communication'"
   ]
  },
  {
   "cell_type": "code",
   "execution_count": 7,
   "metadata": {},
   "outputs": [],
   "source": [
    "def func():\n",
    "    phrase = input('Введите фразу')\n",
    "    acronim = re.findall(r'\\b\\w', phrase.upper())\n",
    "    return ''.join(acronim)"
   ]
  },
  {
   "cell_type": "code",
   "execution_count": 8,
   "metadata": {},
   "outputs": [
    {
     "name": "stdout",
     "output_type": "stream",
     "text": [
      "Введите фразуОчень страшное кино\n"
     ]
    },
    {
     "data": {
      "text/plain": [
       "'ОСК'"
      ]
     },
     "execution_count": 8,
     "metadata": {},
     "output_type": "execute_result"
    }
   ],
   "source": [
    "func()"
   ]
  },
  {
   "cell_type": "markdown",
   "metadata": {},
   "source": [
    "### Задание 4 - Напишите функцию, которая будет принимать на вход список email-адресов и выводить их распределение по доменным зонам"
   ]
  },
  {
   "cell_type": "code",
   "execution_count": 9,
   "metadata": {},
   "outputs": [],
   "source": [
    "emails = ['test@gmail.com', 'xyz@test.in', 'test@ya.ru', 'xyz@mail.ru', 'xyz@ya.ru', 'xyz@gmail.com']"
   ]
  },
  {
   "cell_type": "code",
   "execution_count": 10,
   "metadata": {},
   "outputs": [],
   "source": [
    "def count_domains(mail_list):\n",
    "    clear_mails = []\n",
    "    for mail in mail_list:\n",
    "        x = re.findall(r'\\@\\w+\\.\\w+', mail)\n",
    "        clear_mails.append(x[0])\n",
    "    return {item: clear_mails.count(item) for item in clear_mails}"
   ]
  },
  {
   "cell_type": "code",
   "execution_count": 12,
   "metadata": {},
   "outputs": [
    {
     "data": {
      "text/plain": [
       "{'@gmail.com': 2, '@test.in': 1, '@ya.ru': 2, '@mail.ru': 1}"
      ]
     },
     "execution_count": 12,
     "metadata": {},
     "output_type": "execute_result"
    }
   ],
   "source": [
    "count_domains(emails)"
   ]
  },
  {
   "cell_type": "markdown",
   "metadata": {},
   "source": [
    "### Задание 5* - Напишите функцию, которая будет подсчитывать сколько слов начинается на гласные, а сколько на согласные буквы в тексте "
   ]
  },
  {
   "cell_type": "code",
   "execution_count": 13,
   "metadata": {},
   "outputs": [],
   "source": [
    "some_text = 'Эталонной реализацией Python является интерпретатор CPython, поддерживающий большинство активно используемых платформ. Он распространяется под свободной лицензией Python Software Foundation License, позволяющей использовать его без ограничений в любых приложениях, включая проприетарные.'"
   ]
  },
  {
   "cell_type": "code",
   "execution_count": 14,
   "metadata": {},
   "outputs": [],
   "source": [
    "def counter(text):\n",
    "    all_words = len(re.findall(r'\\w+', text))\n",
    "    vowel_words = len(re.findall(r'\\b[ауоыиэяюёеАУОЫИЭЯЮЕЁAEIOUaeiou]\\w*', text))\n",
    "    print('Слов на гласные буквы: ', vowel_words)\n",
    "    print('Слов на согласные буквы: ', all_words - vowel_words)"
   ]
  },
  {
   "cell_type": "code",
   "execution_count": 15,
   "metadata": {},
   "outputs": [
    {
     "name": "stdout",
     "output_type": "stream",
     "text": [
      "Слов на гласные буквы:  9\n",
      "Слов на согласные буквы:  21\n"
     ]
    }
   ],
   "source": [
    "counter(some_text)"
   ]
  },
  {
   "cell_type": "markdown",
   "metadata": {},
   "source": [
    "### Задание 6* - Напишите функцию, которая будет проверять номер сотового телефона на валидность"
   ]
  },
  {
   "cell_type": "code",
   "execution_count": 26,
   "metadata": {},
   "outputs": [],
   "source": [
    "phone = '8 954 4335434'"
   ]
  },
  {
   "cell_type": "code",
   "execution_count": 20,
   "metadata": {},
   "outputs": [],
   "source": [
    "def valid_phone_number(phone_number):\n",
    "    return re.sub(r'\\+?[78]\\s?([\\(\\-\\s])?(\\d{3})([\\)\\-\\s])?\\s?(\\d{3})([\\-\\s])?(\\d{2})([\\-\\s])?(\\d{2})', r'+7-\\2-\\4-\\6-\\8', phone_number )\n",
    "    "
   ]
  },
  {
   "cell_type": "code",
   "execution_count": 25,
   "metadata": {},
   "outputs": [
    {
     "data": {
      "text/plain": [
       "'+7-954-433-54-34'"
      ]
     },
     "execution_count": 25,
     "metadata": {},
     "output_type": "execute_result"
    }
   ],
   "source": [
    "valid_phone_number(phone)"
   ]
  }
 ],
 "metadata": {
  "kernelspec": {
   "display_name": "Python 3",
   "language": "python",
   "name": "python3"
  },
  "language_info": {
   "codemirror_mode": {
    "name": "ipython",
    "version": 3
   },
   "file_extension": ".py",
   "mimetype": "text/x-python",
   "name": "python",
   "nbconvert_exporter": "python",
   "pygments_lexer": "ipython3",
   "version": "3.8.5"
  }
 },
 "nbformat": 4,
 "nbformat_minor": 4
}
